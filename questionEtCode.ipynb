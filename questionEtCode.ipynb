{
 "cells": [
  {
   "cell_type": "code",
   "execution_count": 1,
   "id": "e640d2d5",
   "metadata": {},
   "outputs": [],
   "source": [
    "from database import database"
   ]
  },
  {
   "cell_type": "code",
   "execution_count": 2,
   "id": "d8500a90",
   "metadata": {},
   "outputs": [],
   "source": [
    "database = database(\"data.db\")"
   ]
  },
  {
   "cell_type": "code",
   "execution_count": 3,
   "id": "e1335f87",
   "metadata": {},
   "outputs": [],
   "source": [
    "database.connect()"
   ]
  },
  {
   "cell_type": "code",
   "execution_count": 4,
   "id": "5601649f",
   "metadata": {},
   "outputs": [],
   "source": [
    "questionnaire=database.readQuestionnaire()"
   ]
  },
  {
   "cell_type": "code",
   "execution_count": 5,
   "id": "c1f0b6e3",
   "metadata": {},
   "outputs": [],
   "source": [
    "questionnaire=questionnaire[['critereid','sscritereid','questionnombre','titrequestion','reponse','reponsedesc','maximumpts']]"
   ]
  },
  {
   "cell_type": "code",
   "execution_count": 6,
   "id": "8033d6b9",
   "metadata": {},
   "outputs": [],
   "source": [
    "database.execute_query('''create table if not exists QuestionnaireClean (\n",
    "    critereid TEXT,\n",
    "    sscritereid INTEGER,\n",
    "    questionnombre INTEGER,\n",
    "    titrequestion TEXT,\n",
    "    reponse integer,\n",
    "    reponsedesc TEXT,  \n",
    "    maximumpts INTEGER\n",
    ")''')\n",
    "\n",
    "\n"
   ]
  },
  {
   "cell_type": "code",
   "execution_count": 7,
   "id": "8d927745",
   "metadata": {},
   "outputs": [],
   "source": [
    "questionnaire.to_sql(\"QuestionnaireClean\", database.connection, if_exists=\"replace\", index=False)\n",
    "\n",
    "database.execute_query('''delete from QuestionnaireClean where not(critereid='A' or critereid='B' or critereid='C' or critereid='D')\n",
    "                       ''')\n",
    "\n",
    "database.commit()"
   ]
  },
  {
   "cell_type": "code",
   "execution_count": 8,
   "id": "fd6f8a19",
   "metadata": {},
   "outputs": [],
   "source": [
    "questionnaire = database.readQuestionnaireClean()\n",
    "\n",
    "with open(\"results/questionnaireClean.json\", \"w\") as f:\n",
    "    questionnaire.to_json(f, orient=\"records\", force_ascii=False, indent=4)\n"
   ]
  }
 ],
 "metadata": {
  "kernelspec": {
   "display_name": "venv",
   "language": "python",
   "name": "python3"
  },
  "language_info": {
   "codemirror_mode": {
    "name": "ipython",
    "version": 3
   },
   "file_extension": ".py",
   "mimetype": "text/x-python",
   "name": "python",
   "nbconvert_exporter": "python",
   "pygments_lexer": "ipython3",
   "version": "3.11.12"
  }
 },
 "nbformat": 4,
 "nbformat_minor": 5
}
